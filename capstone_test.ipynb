{
 "cells": [
  {
   "cell_type": "code",
   "execution_count": 40,
   "metadata": {},
   "outputs": [
    {
     "name": "stdout",
     "output_type": "stream",
     "text": [
      "        top  left  height  width  class\n",
      "0       163  1098     185    420      1\n",
      "1       421  1128     176    393      1\n",
      "2       927  1703     153    183      0\n",
      "3       857   976      86    139      0\n",
      "4        11   624     210    328      1\n",
      "...     ...   ...     ...    ...    ...\n",
      "132026  171   278      28     44      1\n",
      "132027  104    34      34     31      1\n",
      "132028  375   685      94    148      1\n",
      "132029  345   451      91    155      1\n",
      "132030   38     7     164    416      1\n",
      "\n",
      "[132031 rows x 5 columns]\n"
     ]
    }
   ],
   "source": [
    "import pandas as pd\n",
    "import json\n",
    "\n",
    "file = '../DataSets/Video/AU-AIR-2019/auair2019annotations/annotations.json'\n",
    "# json_df = pd.read_json(file)\n",
    "# file = 'annotations_modified.json'\n",
    "data = json.load((open(file)))\n",
    "df = pd.json_normalize(data, ['annotations','bbox'])\n",
    "print(df)\n",
    "# json_df = pd.DataFrame(data)\n",
    "# json_df"
   ]
  }
 ],
 "metadata": {
  "interpreter": {
   "hash": "e7370f93d1d0cde622a1f8e1c04877d8463912d04d973331ad4851f04de6915a"
  },
  "kernelspec": {
   "display_name": "Python 3.8.10 64-bit",
   "name": "python3"
  },
  "language_info": {
   "codemirror_mode": {
    "name": "ipython",
    "version": 3
   },
   "file_extension": ".py",
   "mimetype": "text/x-python",
   "name": "python",
   "nbconvert_exporter": "python",
   "pygments_lexer": "ipython3",
   "version": "3.8.10"
  },
  "orig_nbformat": 4
 },
 "nbformat": 4,
 "nbformat_minor": 2
}
