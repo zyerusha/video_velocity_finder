{
 "cells": [
  {
   "cell_type": "code",
   "execution_count": null,
   "metadata": {},
   "outputs": [],
   "source": [
    "import cv2\n",
    "import numpy as np\n",
    "from numpy.core.numeric import True_\n",
    "from numpy.lib.arraysetops import unique\n",
    "import pandas as pd\n",
    "# import glob\n",
    "import os\n",
    "from pandas import json_normalize\n",
    "from os import getcwd, path\n",
    "from yaml import SafeLoader, load\n",
    "import datetime\n",
    "import matplotlib.pyplot as plt\n",
    "import yaml\n",
    "import shutil\n",
    "import json\n",
    "\n",
    "from video_utils_virat import VideoUtils\n",
    "from video_utils_virat import YoloUtils\n",
    "\n",
    "%matplotlib inline"
   ]
  },
  {
   "cell_type": "markdown",
   "metadata": {},
   "source": [
    "## Dataset Selection"
   ]
  },
  {
   "cell_type": "code",
   "execution_count": null,
   "metadata": {},
   "outputs": [],
   "source": [
    "\n",
    "# setup\n",
    "dataset_dir_path = './datasets/VIRAT/'\n",
    "image_ext = '.jpg'\n",
    "video_max_frames = 2000\n",
    "\n",
    "#video\n",
    "video_ext = '.mp4'\n",
    "video_name = 'VIRAT_S_000008'\n",
    "video_name_orig = video_name + video_ext\n",
    "video_dest_path = './' + video_name + '/'\n",
    "video_src_path = dataset_dir_path + 'Videos/Ground/'\n",
    "\n",
    "using_yml = True\n",
    "\n",
    "# annotations\n",
    "saved_csv = video_dest_path + 'df_bbox.csv'\n",
    "\n",
    "\n",
    "video_name_new = 'ann_yml_'\n",
    "\n",
    "annotations_path = dataset_dir_path + 'viratannotations/train/' + video_name +'/'\n",
    "annotations_path = dataset_dir_path + 'viratannotations/validate/' + video_name +'/'\n",
    "ann_activities_file = annotations_path + video_name + '.activities.yml'\n",
    "ann_geom_file = annotations_path + video_name + '.geom.yml'\n",
    "ann_regions_file = annotations_path + video_name + '.regions.yml'\n",
    "ann_types_file = annotations_path + video_name + '.types.yml'\n",
    "\n",
    "\n",
    "video_name_new = video_name_new + video_name + '.avi'#video_ext"
   ]
  },
  {
   "cell_type": "code",
   "execution_count": null,
   "metadata": {},
   "outputs": [],
   "source": [
    "# Create directory to store new video\n",
    "if not os.path.exists(video_dest_path):\n",
    "    os.makedirs(video_dest_path)\n",
    "\n",
    "\n",
    "if not os.path.exists(saved_csv):\n",
    "    with open(ann_types_file) as yaml_file:\n",
    "        yaml_contents = load(yaml_file, Loader=SafeLoader)\n",
    "    yaml_df = json_normalize(yaml_contents)\n",
    "    yaml_df\n",
    "    for col in yaml_df.columns:\n",
    "        type_name = col.split('.')[-1]\n",
    "        if not (type_name == 'id1'):\n",
    "            yaml_df.loc[yaml_df[col] == 1, col] = type_name\n",
    "    \n",
    "    yaml_df = yaml_df[yaml_df['types.id1'].notna()].reset_index().dropna(axis=1, how='all')  \n",
    "    type_df = yaml_df.ffill(axis=1).iloc[:,-1].to_frame(name='category')\n",
    "    type_df.insert(0, \"id\", yaml_df['types.id1'])\n",
    "    type_df\n"
   ]
  },
  {
   "cell_type": "code",
   "execution_count": null,
   "metadata": {},
   "outputs": [],
   "source": [
    "# using annotations:\n",
    "print(\"Loading annotations...\")\n",
    "def add_category_type(row):\n",
    "  id = row['object_id']\n",
    "  val = type_df.loc[type_df['id'] == id, 'category'].iloc[0]\n",
    "  return val\n",
    "\n",
    "\n",
    "if os.path.exists(saved_csv):\n",
    "  df_bbox = pd.read_csv(saved_csv)\n",
    "else:\n",
    "  with open(ann_geom_file) as yaml_file:\n",
    "      yaml_contents = load(yaml_file, Loader=SafeLoader)\n",
    "  yaml_df = json_normalize(yaml_contents)\n",
    "\n",
    "  df_bbox = yaml_df[['geom.id1','geom.ts0','geom.ts1','geom.g0']].dropna().reset_index()\n",
    "  df_bbox.rename(columns={'geom.id1': 'object_id', 'geom.ts0': 'frame_id','geom.ts1': 'time_sec', 'geom.g0': 'bbox'}, inplace=True)\n",
    "  df_bbox['bbox'] = df_bbox['bbox'].str.split()\n",
    "  df_tmp = pd.DataFrame(df_bbox['bbox'].to_list(), columns = ['bb_left', 'bb_top', 'bb_right', 'bb_bottom'])\n",
    "  df_bbox = pd.concat([df_bbox, df_tmp], axis=1).drop(columns=['bbox'])\n",
    "\n",
    "  df_bbox['category'] = df_bbox.apply(lambda row: add_category_type(row), axis=1) \n",
    "  df_bbox.drop(columns=['index'], axis=1, inplace=True)\n",
    "  # df_bbox.set_index['index'] \n",
    "  df_bbox.to_csv(saved_csv, index = False)\n",
    "    \n",
    "\n",
    "df_bbox.head()"
   ]
  },
  {
   "cell_type": "markdown",
   "metadata": {},
   "source": [
    "# Add velocities"
   ]
  },
  {
   "cell_type": "code",
   "execution_count": null,
   "metadata": {},
   "outputs": [],
   "source": [
    "# Add velocities for the video\n",
    "\n",
    "vidcap = cv2.VideoCapture(video_src_path + video_name_orig)\n",
    "fps = 30\n",
    "scale = 1/15\n",
    "if vidcap.isOpened():\n",
    "    fps = vidcap.get(cv2.CAP_PROP_FPS)  \n",
    "    # scale = #TBD\n",
    "\n",
    "\n",
    "def find_mid(a, b):\n",
    "  c = (a.astype(float) + b.astype(float))/2\n",
    "  return c\n",
    "\n",
    "def find_delta(x):\n",
    "  dx = x.diff()\n",
    "  dx[0] = np.nan\n",
    "  dx.fillna(method='backfill', inplace=True)\n",
    "  return dx\n",
    "\n",
    "def find_vel(vx,vy):\n",
    "\n",
    "  vel = np.sqrt(vx * vx + vy * vy).round(2)\n",
    "  return vel#, vx, vy\n",
    "\n",
    "for id in df_bbox['object_id'].unique():\n",
    "  mask = (df_bbox['object_id']==id)\n",
    "  sub_df = df_bbox[mask]\n",
    "  x  = find_mid(sub_df['bb_top'], sub_df['bb_bottom'])\n",
    "  y  = find_mid(sub_df['bb_left'], sub_df['bb_right'])\n",
    "  dx = find_delta(x)\n",
    "  dy = find_delta(y)\n",
    "  vx = (dx * fps * scale)\n",
    "  vy = (dy * fps * scale)\n",
    "\n",
    "  df_bbox.loc[mask, 'x']  = x\n",
    "  df_bbox.loc[mask, 'y']  = y\n",
    "  df_bbox.loc[mask, 'dx'] = dx\n",
    "  df_bbox.loc[mask, 'dy'] = dy\n",
    "  df_bbox.loc[mask, 'vx'] = (dx * fps * scale)\n",
    "  df_bbox.loc[mask, 'vy'] = (dy * fps * scale)\n",
    "  df_bbox.loc[mask, 'vel']  = np.sqrt(vx * vx + vy * vy).round(2)\n",
    "\n",
    "df_bbox.head()"
   ]
  },
  {
   "cell_type": "markdown",
   "metadata": {},
   "source": []
  },
  {
   "cell_type": "code",
   "execution_count": null,
   "metadata": {},
   "outputs": [],
   "source": [
    "from video_utils_virat import YoloUtils\n",
    "yUtils = YoloUtils()\n",
    "yolo_weight_file = \"./darknet/yolov3.weights\"\n",
    "yolo_cfg_file = \"./darknet/cfg/yolov3.cfg\"\n",
    "yolo_names_file = \"./darknet/data/coco.names\"\n",
    "start_time = 0\n",
    "video_duration=None\n",
    "\n",
    "# yUtils.YoloOnVideo(yolo_weight_file, yolo_cfg_file, yolo_names_file, video_dest_path, video_src_path + video_name_orig, video_name_new, start_time_sec=start_time, duration_sec=video_duration, save_images=False)\n",
    "# yUtils.YoloOnVideo(yolo_weight_file, yolo_cfg_file, yolo_names_file, './', 'test2.avi', 'test3.avi')\n"
   ]
  },
  {
   "cell_type": "code",
   "execution_count": null,
   "metadata": {},
   "outputs": [],
   "source": [
    "from video_utils_virat import VideoUtils\n",
    "vUtils = VideoUtils() \n",
    "vUtils.ChangeVideoFrameRate('video_20190906150731_3.avi','test2.avi', 10)"
   ]
  },
  {
   "cell_type": "code",
   "execution_count": null,
   "metadata": {},
   "outputs": [],
   "source": [
    "from video_utils_virat import YoloUtils\n",
    "yUtils = YoloUtils()\n",
    "yolo_weight_file = \"./darknet/yolov3.weights\"\n",
    "yolo_cfg_file = \"./darknet/cfg/yolov3.cfg\"\n",
    "yolo_names_file = \"./darknet/data/coco.names\"\n",
    "yUtils.YoloTheWebcam(yolo_weight_file, yolo_cfg_file, yolo_names_file)"
   ]
  },
  {
   "cell_type": "code",
   "execution_count": null,
   "metadata": {},
   "outputs": [],
   "source": [
    "import os\n",
    "import pyautogui\n",
    "\n",
    "# this changes the working directory folder to where this script is in\n",
    "# os.chdir(os.path.dirname(os.path.abspath(__file__)))\n",
    "screenshot = pyautogui.screenshot()\n",
    "print(screenshot)"
   ]
  },
  {
   "cell_type": "code",
   "execution_count": null,
   "metadata": {},
   "outputs": [],
   "source": [
    "# import gi\n",
    "# gi.require_version(\"Wnck\", \"3.0\")\n",
    "# from gi.repository import Wnck\n",
    "\n",
    "# scr = Wnck.Screen.get_default()\n",
    "# scr.force_update()\n",
    "# print(scr.get_active_window().get_name())"
   ]
  },
  {
   "cell_type": "code",
   "execution_count": null,
   "metadata": {},
   "outputs": [],
   "source": [
    "from video_utils_virat import YoloUtils\n",
    "yUtils = YoloUtils()\n",
    "yolo_weight_file = \"./darknet/yolov3.weights\"\n",
    "yolo_cfg_file = \"./darknet/cfg/yolov3.cfg\"\n",
    "yolo_names_file = \"./darknet/data/coco.names\"\n",
    "yUtils.YoloOnScreen(yolo_weight_file, yolo_cfg_file, yolo_names_file, 2000,150,3500,1280)\n"
   ]
  }
 ],
 "metadata": {
  "interpreter": {
   "hash": "e7370f93d1d0cde622a1f8e1c04877d8463912d04d973331ad4851f04de6915a"
  },
  "kernelspec": {
   "display_name": "Python 3.8.10 64-bit",
   "name": "python3"
  },
  "language_info": {
   "codemirror_mode": {
    "name": "ipython",
    "version": 3
   },
   "file_extension": ".py",
   "mimetype": "text/x-python",
   "name": "python",
   "nbconvert_exporter": "python",
   "pygments_lexer": "ipython3",
   "version": "3.8.10"
  },
  "orig_nbformat": 4
 },
 "nbformat": 4,
 "nbformat_minor": 2
}
