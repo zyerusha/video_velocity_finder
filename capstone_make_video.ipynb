{
 "cells": [
  {
   "cell_type": "code",
   "execution_count": 22,
   "metadata": {},
   "outputs": [],
   "source": [
    "import cv2\n",
    "import numpy as np\n",
    "from numpy.core.numeric import True_\n",
    "from numpy.lib.arraysetops import unique\n",
    "import pandas as pd\n",
    "import glob\n",
    "import os\n",
    "import json\n",
    "import datetime\n",
    "import matplotlib.pyplot as plt\n",
    "\n",
    "\n",
    "make_video = False\n",
    "dataset_dir_path = './datasets/au-air/'\n",
    "\n",
    "annotations_path = dataset_dir_path + 'auair2019annotations/'\n",
    "image_path = dataset_dir_path + 'auair2019data/images/'\n",
    "annotations_file = annotations_path + 'annotations.json'\n",
    "\n",
    "video_ext = '.avi'\n",
    "image_ext = '.jpg'\n",
    "image_files = image_path + '*' + image_ext\n"
   ]
  },
  {
   "cell_type": "code",
   "execution_count": 23,
   "metadata": {},
   "outputs": [],
   "source": [
    "def CollectingImages(cnt, remaining_cnt):\n",
    "    print(f\"Collecting {cnt} / {remaining_cnt} images...\")\n",
    "    img_array = []\n",
    "    for i in range(cnt):\n",
    "        img = cv2.imread(images.iloc[i])\n",
    "        height, width, layers = img.shape\n",
    "        image_size = (width, height)\n",
    "        img_array.append(img)\n",
    "        if((i % 200) == 0):\n",
    "            print(str(round((i/cnt) * 100)) + ' %')\n",
    "\n",
    "    return img_array, image_size"
   ]
  },
  {
   "cell_type": "code",
   "execution_count": 24,
   "metadata": {},
   "outputs": [],
   "source": [
    "\n",
    "def CombineImages(img_array, video_name, fps, size):\n",
    "    print(\"Combining images to: \" + video_name)\n",
    "    out = cv2.VideoWriter(\n",
    "        video_name, cv2.VideoWriter_fourcc(*'DIVX'), fps, size)\n",
    "\n",
    "    image_count = len(img_array)\n",
    "    for i in range(image_count):\n",
    "        out.write(img_array[i])\n",
    "        if((i % 200) == 0):\n",
    "            print(str(round((i/image_count) * 100)) + ' %')\n",
    "\n",
    "    out.release()\n",
    "    print(\"Created video: \" + video_name)"
   ]
  },
  {
   "cell_type": "code",
   "execution_count": 25,
   "metadata": {},
   "outputs": [],
   "source": [
    "def CreateVideo(images, fps, video_name, video_ext, video_frame_limit=3000):\n",
    "    total_cnt = len(images)\n",
    "\n",
    "    print(f\"Found {total_cnt} images for this video recording.\")\n",
    "    image_count = total_cnt\n",
    "    remaining_cnt = total_cnt\n",
    "    video_idx = 0\n",
    "    split_video = False\n",
    "    while(remaining_cnt > 0):\n",
    "        # limit size of videos\n",
    "        if(remaining_cnt > video_frame_limit):\n",
    "            image_count = video_frame_limit\n",
    "            split_video = True\n",
    "        else:\n",
    "            image_count = remaining_cnt\n",
    "\n",
    "        video_idx += 1\n",
    "        img_array, img_size = CollectingImages(image_count, remaining_cnt)\n",
    "        remaining_cnt -= max(image_count, 0)  # keep it positive\n",
    "\n",
    "        if(split_video):\n",
    "            full_video_name = video_name + '_' + str(video_idx) + video_ext\n",
    "        else:\n",
    "            full_video_name = video_name + video_ext\n",
    "\n",
    "        if os.path.exists(full_video_name):\n",
    "            os.remove(full_video_name)\n",
    "\n",
    "        CombineImages(img_array, full_video_name, fps, img_size)"
   ]
  },
  {
   "cell_type": "code",
   "execution_count": 26,
   "metadata": {},
   "outputs": [],
   "source": [
    "# def AddDateTime(names):\n",
    "#     s = pd.Series(names.str.split('_'))\n",
    "#     df_tmp = pd.DataFrame(s.tolist(), columns=['head', 'time', 'x', 'id.jpg'])\n",
    "#     s = pd.Series(df_tmp['id.jpg'].str.split('.'))\n",
    "#     df_tmp2 = pd.DataFrame(s.tolist(), columns=['id', 'jpg'])\n",
    "#     df_full['time'] = df_tmp['time']\n",
    "#     df_full['id'] = df_tmp2['id']\n",
    "#     df_full.set_index('image_name')"
   ]
  },
  {
   "cell_type": "markdown",
   "metadata": {},
   "source": [
    "## Creating annotations dataframe"
   ]
  },
  {
   "cell_type": "code",
   "execution_count": 27,
   "metadata": {},
   "outputs": [
    {
     "name": "stdout",
     "output_type": "stream",
     "text": [
      "Loading annotations...\n",
      "32823 132031\n",
      "        top  left  height  width  class\n",
      "0       163  1098     185    420      1\n",
      "1       421  1128     176    393      1\n",
      "2       927  1703     153    183      0\n",
      "3       857   976      86    139      0\n",
      "4        11   624     210    328      1\n",
      "...     ...   ...     ...    ...    ...\n",
      "132026  171   278      28     44      1\n",
      "132027  104    34      34     31      1\n",
      "132028  375   685      94    148      1\n",
      "132029  345   451      91    155      1\n",
      "132030   38     7     164    416      1\n",
      "\n",
      "[132031 rows x 5 columns]\n",
      "Number for annotation duplicates is 0\n"
     ]
    }
   ],
   "source": [
    "# using annotations:\n",
    "print(\"Loading annotations...\")\n",
    "data = json.load((open(annotations_file)))\n",
    "df_json = pd.json_normalize(data, 'annotations').sort_values(by=['image_name'])\n",
    "df_bbox = pd.json_normalize(\n",
    "    data, ['annotations', 'bbox'])\n",
    "print(len(df_json), len(df_bbox))\n",
    "print(df_bbox)\n",
    "print(\n",
    "    f'Number for annotation duplicates is {df_json.image_name.duplicated().sum()}')\n"
   ]
  },
  {
   "cell_type": "markdown",
   "metadata": {},
   "source": [
    "## Creating Image Dataframe"
   ]
  },
  {
   "cell_type": "code",
   "execution_count": 28,
   "metadata": {},
   "outputs": [
    {
     "name": "stdout",
     "output_type": "stream",
     "text": [
      "Finding image names...\n",
      "Number for image duplicates is 0\n"
     ]
    }
   ],
   "source": [
    "\n",
    "\n",
    "# df_json_date = df_json[df_json['image_name'].str.contains(search_date)]\n",
    "\n",
    "# using images:\n",
    "print(\"Finding image names...\")\n",
    "files = np.array(glob.glob(image_files))\n",
    "df_imgs = pd.concat([pd.DataFrame([os.path.basename(file)], columns=['image_name']) for file in files],\n",
    "                    ignore_index=True)\n",
    "df_imgs['full_path'] = files\n",
    "s = pd.Series(df_imgs['image_name'].str.split('_'))\n",
    "df_tmp = pd.DataFrame(s.tolist(), columns=['head', 'short_name', 'x', 'id.jpg'])\n",
    "s = pd.Series(df_tmp['id.jpg'].str.split('.'))\n",
    "df_tmp2 = pd.DataFrame(s.tolist(), columns=['id', 'jpg'])\n",
    "df_imgs['short_name'] = df_tmp['short_name']\n",
    "df_imgs['id'] = df_tmp2['id']\n",
    "df_imgs.set_index('image_name')\n",
    "print(\n",
    "    f'Number for image duplicates is {df_imgs.image_name.duplicated().sum()}')\n",
    "\n",
    "# df_imgs = df_imgs.sort_values(by=['time', 'id']).drop_duplicates(\n",
    "#     subset=['time', 'id'])\n",
    "# year = df_json['time.year']\n",
    "# month = df_json['time.month']\n",
    "# day = df_json['time.day']\n",
    "# min = df_json['time.min']\n",
    "# sec = df_json['time.sec']\n",
    "# msec = df_json['time.ms']\n",
    "# print(year.values)\n",
    "# df_json['datetime'] = pd.Timestamp(\n",
    "#     str(year.values) + '-' + str(month.values) + '-' + str(day.values))\n",
    "# # 'time.year', 'time.month', 'time.day', 'time.hour', 'time.min', 'time.sec')\n",
    "\n",
    "# print(df_json['datetime'])\n"
   ]
  },
  {
   "cell_type": "markdown",
   "metadata": {},
   "source": [
    "## Merging dataframes"
   ]
  },
  {
   "cell_type": "code",
   "execution_count": 29,
   "metadata": {},
   "outputs": [
    {
     "name": "stdout",
     "output_type": "stream",
     "text": [
      "Date grouping: /n\n",
      "time.year  time.month  time.day  time.hour  time.min  time.sec\n",
      "2019       8           29        9          11        11          2592\n",
      "           9           5         9          17        50          5734\n",
      "                                 10         31        12          6840\n",
      "                                 11         19        47           771\n",
      "                                            25        22          5358\n",
      "                                 14         21        19          2962\n",
      "                                            35        5           1580\n",
      "                       6         15         7         31          6986\n",
      "dtype: int64\n"
     ]
    },
    {
     "data": {
      "image/png": "[encoded data removed]",
      "text/plain": [
       "<Figure size 432x288 with 1 Axes>"
      ]
     },
     "metadata": {
      "needs_background": "light"
     },
     "output_type": "display_data"
    }
   ],
   "source": [
    "df_full = pd.merge(df_json, df_imgs, how='inner', on='image_name')\n",
    "df_grp = df_full.groupby(\n",
    "    by=['time.year', 'time.month', 'time.day', 'time.hour', 'time.min', 'time.sec'])\n",
    "print(\"Date grouping: /n\")\n",
    "print(df_grp.size())\n",
    "\n",
    "\n",
    "plt.hist(df_full['short_name'], bins=8)\n",
    "plt.xticks(rotation = 90) \n",
    "plt.show()"
   ]
  },
  {
   "cell_type": "markdown",
   "metadata": {},
   "source": [
    "## Finding number of recordings based on date"
   ]
  },
  {
   "cell_type": "code",
   "execution_count": 30,
   "metadata": {},
   "outputs": [
    {
     "name": "stdout",
     "output_type": "stream",
     "text": [
      "There are 8 video recordings:\n",
      "['20190829091111' '20190905091750' '20190905103112' '20190905111947'\n",
      " '20190905112522' '20190905142119' '20190905143505' '20190906150731']\n"
     ]
    }
   ],
   "source": [
    "unique_dates = unique(df_full['short_name'])\n",
    "recording_cnt = len(unique_dates)\n",
    "print(f\"There are {recording_cnt} video recordings:\")\n",
    "print(unique_dates)"
   ]
  },
  {
   "cell_type": "markdown",
   "metadata": {},
   "source": [
    "## Set if to create a video in needed"
   ]
  },
  {
   "cell_type": "code",
   "execution_count": 31,
   "metadata": {},
   "outputs": [],
   "source": [
    "#make_video = True"
   ]
  },
  {
   "cell_type": "code",
   "execution_count": 32,
   "metadata": {},
   "outputs": [
    {
     "name": "stdout",
     "output_type": "stream",
     "text": [
      "####### START #########\n",
      "Video # 1 / 8\n",
      "Selecting date: 20190829091111\n",
      "Recording duration is 710.8 sec\n",
      "fps: 3.6465953854811484\n",
      "Found 2592 images for this video recording.\n",
      "Collecting 2000 / 2592 images...\n",
      "0 %\n",
      "10 %\n",
      "20 %\n",
      "30 %\n",
      "40 %\n",
      "50 %\n",
      "60 %\n",
      "70 %\n",
      "80 %\n",
      "90 %\n",
      "Combining images to: video_20190829091111_1.avi\n",
      "0 %\n",
      "10 %\n",
      "20 %\n",
      "30 %\n",
      "40 %\n",
      "50 %\n",
      "60 %\n",
      "70 %\n",
      "80 %\n",
      "90 %\n",
      "Created video: video_20190829091111_1.avi\n",
      "Collecting 592 / 592 images...\n",
      "0 %\n",
      "34 %\n",
      "68 %\n",
      "Combining images to: video_20190829091111_2.avi\n",
      "0 %\n",
      "34 %\n",
      "68 %\n",
      "Created video: video_20190829091111_2.avi\n",
      "######## END ##########\n"
     ]
    }
   ],
   "source": [
    "# do for loop here on date\n",
    "cnt = recording_cnt\n",
    "for i in range(0, cnt):\n",
    "    search_date = unique_dates[i]\n",
    "    print('####### START #########')\n",
    "    print(f'Video # {i + 1} / {cnt}')\n",
    "    print(f'Selecting date: {search_date}')\n",
    "    df_recording = df_full[df_full['image_name'].str.contains(search_date)]\n",
    "    images = pd.Series(df_recording['full_path'].values,\n",
    "                       index=df_recording['full_path'])\n",
    "\n",
    "# Calculate Frames Per Second\n",
    "    timespan_ms = df_recording['time.ms'].iloc[-1] - \\\n",
    "        df_recording['time.ms'].iloc[0]\n",
    "    timespan_sec = timespan_ms/1000\n",
    "    print(\n",
    "        f'Recording duration is {timespan_sec} sec')\n",
    "    fps = len(df_recording)/timespan_sec\n",
    "    print(f'fps: {fps}')\n",
    "\n",
    "    if(make_video):\n",
    "        video_name = 'video_' + search_date\n",
    "        if os.path.exists(video_name + video_ext):\n",
    "            os.remove(video_name + video_ext)\n",
    "\n",
    "        CreateVideo(images, fps, video_name, video_ext, 2000)\n",
    "\n",
    "    print('######## END ##########')\n"
   ]
  }
 ],
 "metadata": {
  "interpreter": {
   "hash": "e7370f93d1d0cde622a1f8e1c04877d8463912d04d973331ad4851f04de6915a"
  },
  "kernelspec": {
   "display_name": "Python 3.8.10 64-bit",
   "name": "python3"
  },
  "language_info": {
   "codemirror_mode": {
    "name": "ipython",
    "version": 3
   },
   "file_extension": ".py",
   "mimetype": "text/x-python",
   "name": "python",
   "nbconvert_exporter": "python",
   "pygments_lexer": "ipython3",
   "version": "3.8.10"
  },
  "orig_nbformat": 4
 },
 "nbformat": 4,
 "nbformat_minor": 2
}
