{
 "cells": [
  {
   "cell_type": "code",
   "execution_count": 1,
   "metadata": {},
   "outputs": [],
   "source": [
    "# !pip install opencv-python\n",
    "# !pip install pandas\n",
    "# !pip install matplotlib\n",
    "\n",
    "import cv2\n",
    "import numpy as np\n",
    "from numpy.core.numeric import True_\n",
    "from numpy.lib.arraysetops import unique\n",
    "import pandas as pd\n",
    "# import glob\n",
    "import os\n",
    "from pandas import json_normalize\n",
    "from os import getcwd, path\n",
    "from yaml import SafeLoader, load\n",
    "import datetime\n",
    "import matplotlib.pyplot as plt\n",
    "import yaml\n",
    "import shutil\n",
    "import json\n",
    "from time import time\n",
    "\n",
    "from video_utils_virat import VideoUtils\n",
    "from video_utils_virat import YoloUtils\n",
    "\n",
    "%matplotlib inline"
   ]
  },
  {
   "cell_type": "code",
   "execution_count": 2,
   "metadata": {},
   "outputs": [],
   "source": [
    "# setup\n",
    "dataset_dir_path = '../datasets/VIRAT/'\n",
    "image_ext = '.jpg'\n",
    "video_max_frames = 2000\n",
    "\n",
    "#video\n",
    "video_ext = '.mp4'\n",
    "video_src_path = dataset_dir_path + 'Videos/Ground/'\n",
    "ann_validate_path = dataset_dir_path + 'viratannotations/validate/'\n",
    "ann_train_path = dataset_dir_path + 'viratannotations/train/'\n"
   ]
  },
  {
   "cell_type": "code",
   "execution_count": 3,
   "metadata": {},
   "outputs": [
    {
     "name": "stdout",
     "output_type": "stream",
     "text": [
      "train:64, validate:55, ann total:119, missing_videos:0\n",
      "[]\n"
     ]
    }
   ],
   "source": [
    "files = os.listdir(video_src_path)\n",
    "existing_video_lst = [f.split('.')[0] for f in files if f.endswith(video_ext)]\n",
    "\n",
    "annotations_lst_1 = os.listdir(ann_train_path)\n",
    "annotations_lst_2 = os.listdir(ann_validate_path)\n",
    "\n",
    "a = annotations_lst_1\n",
    "b = annotations_lst_2\n",
    "c = a[:]\n",
    "for i in b:\n",
    "    if i not in a:\n",
    "        c.append(i)\n",
    "\n",
    "\n",
    "missing_lst = c[:]\n",
    "for i in c:\n",
    "    if i in existing_video_lst:\n",
    "        missing_lst.remove(i)\n",
    "\n",
    "\n",
    "print(f'train:{len(a)}, validate:{len(b)}, ann total:{len(c)}, missing_videos:{len(missing_lst)}')\n",
    "\n",
    "missing_lst = [n.strip('VIRAT_S_') for n in missing_lst]\n",
    "\n",
    "print(missing_lst)"
   ]
  },
  {
   "cell_type": "code",
   "execution_count": 4,
   "metadata": {},
   "outputs": [
    {
     "name": "stdout",
     "output_type": "stream",
     "text": [
      "Loading annotations...\n"
     ]
    }
   ],
   "source": [
    "# using annotations:\n",
    "print(\"Loading annotations...\")\n",
    "def add_category_type(row):\n",
    "  id = row['object_id']\n",
    "  val = type_df.loc[type_df['id'] == id, 'category'].iloc[0]\n",
    "  return val\n"
   ]
  },
  {
   "cell_type": "code",
   "execution_count": 5,
   "metadata": {},
   "outputs": [
    {
     "name": "stdout",
     "output_type": "stream",
     "text": [
      "Done!!!\n"
     ]
    }
   ],
   "source": [
    "# Create directory to store new video\n",
    "for video_name in annotations_lst_2:\n",
    "    start_time = time()\n",
    "    video_dest_path = './processed/' + video_name + '/'\n",
    "    saved_csv = video_dest_path + 'df_bbox.csv'\n",
    "    ann_types_file = ann_validate_path + video_name + '/' + video_name + '.types.yml'\n",
    "    ann_geom_file = ann_validate_path + video_name + '/' + video_name + '.geom.yml'\n",
    "\n",
    "    if not os.path.exists(video_dest_path):\n",
    "        os.makedirs(video_dest_path)\n",
    "\n",
    "    if not os.path.exists(saved_csv):\n",
    "        with open(ann_types_file) as yaml_file:\n",
    "            yaml_contents = load(yaml_file, Loader=SafeLoader)\n",
    "        yaml_df = json_normalize(yaml_contents)\n",
    "        yaml_df\n",
    "        for col in yaml_df.columns:\n",
    "            type_name = col.split('.')[-1]\n",
    "            if not (type_name == 'id1'):\n",
    "                yaml_df.loc[yaml_df[col] == 1, col] = type_name\n",
    "        \n",
    "        yaml_df = yaml_df[yaml_df['types.id1'].notna()].reset_index().dropna(axis=1, how='all')  \n",
    "        type_df = yaml_df.ffill(axis=1).iloc[:,-1].to_frame(name='category')\n",
    "        type_df.insert(0, \"id\", yaml_df['types.id1'])\n",
    "\n",
    "\n",
    "\n",
    "    if os.path.exists(saved_csv):\n",
    "        df_bbox = pd.read_csv(saved_csv)\n",
    "    else:\n",
    "        with open(ann_geom_file) as yaml_file:\n",
    "            yaml_contents = load(yaml_file, Loader=SafeLoader)\n",
    "        yaml_df = json_normalize(yaml_contents)\n",
    "\n",
    "        df_bbox = yaml_df[['geom.id1','geom.ts0','geom.ts1','geom.g0']].dropna().reset_index()\n",
    "        df_bbox.rename(columns={'geom.id1': 'object_id', 'geom.ts0': 'frame_id','geom.ts1': 'time_sec', 'geom.g0': 'bbox'}, inplace=True)\n",
    "        df_bbox['bbox'] = df_bbox['bbox'].str.split()\n",
    "        df_tmp = pd.DataFrame(df_bbox['bbox'].to_list(), columns = ['bb_left', 'bb_top', 'bb_right', 'bb_bottom'])\n",
    "        df_bbox = pd.concat([df_bbox, df_tmp], axis=1).drop(columns=['bbox'])\n",
    "\n",
    "        df_bbox['category'] = df_bbox.apply(lambda row: add_category_type(row), axis=1) \n",
    "        df_bbox.drop(columns=['index'], axis=1, inplace=True)\n",
    "        # df_bbox.set_index['index'] \n",
    "        df_bbox.to_csv(saved_csv, index = False)\n",
    "    \n",
    "    dt = time() - start_time\n",
    "    if dt > 3:\n",
    "        print(f'Done with: {video_name}, {dt :0.2f} sec')\n",
    "    \n",
    "    df_bbox.head()\n",
    "\n",
    "print(f'Done!!!')"
   ]
  }
 ],
 "metadata": {
  "interpreter": {
   "hash": "916dbcbb3f70747c44a77c7bcd40155683ae19c65e1c03b4aa3499c5328201f1"
  },
  "kernelspec": {
   "display_name": "Python 3 (ipykernel)",
   "language": "python",
   "name": "python3"
  },
  "language_info": {
   "codemirror_mode": {
    "name": "ipython",
    "version": 3
   },
   "file_extension": ".py",
   "mimetype": "text/x-python",
   "name": "python",
   "nbconvert_exporter": "python",
   "pygments_lexer": "ipython3",
   "version": "3.9.7"
  }
 },
 "nbformat": 4,
 "nbformat_minor": 2
}
