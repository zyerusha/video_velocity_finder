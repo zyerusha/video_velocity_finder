{
 "cells": [
  {
   "cell_type": "markdown",
   "metadata": {},
   "source": [
    "# <span style=\"color:yellow\">Step 6: Survey Existing Research and Reproduce Available Solutions</span>  \n",
    "\n",
    "## Links of research done on the topic of the capstone project:  \n",
    "- Introduction to YOLO v3: https://www.youtube.com/watch?v=vRqSO6RsptU  \n",
    "- https://pysource.com/2019/06/27/yolo-object-detection-using-opencv-with-python/  \n",
    "- https://www.mathworks.com/matlabcentral/answers/321662-how-can-i-track-and-measure-the-velocity-of-a-moving-object-in-a-video  \n",
    "- https://colab.research.google.com/drive/1zmeSTP3J5zu2d5fHgsQC06DyYEYJFXq1?usp=sharing#scrollTo=rJHEJP54B2-4  \n",
    "- https://github.com/murtazahassan/Learn-OpenCV-in-3-hours\n",
    "- https://pjreddie.com/darknet/  \n",
    "- https://pjreddie.com/darknet/yolo/   \n",
    "- https://github.com/bozcani/auairdataset  \n",
    "- https://github.com/commaai/speedchallenge  \n",
    "- https://www.pyimagesearch.com/2015/01/19/find-distance-camera-objectmarker-using-python-opencv/\n",
    "- https://www.youtube.com/watch?v=_Pas8v2dbdc  \n",
    "- https://www.researchgate.net/publication/300576518_Active_Vision_Speed_Estimation_from_Optical_Flow  \n",
    "- http://www.ijstr.org/final-print/apr2020/An-Image-Processing-Based-Method-For-Vehicle-Speed-Estimation.pdf  \n",
    "- https://www.researchgate.net/publication/317312246_Speed_Estimation_On_Moving_Vehicle_Based_On_Digital_Image_Processing\n",
    "\n",
    "\n",
    "\n"
   ]
  }
 ],
 "metadata": {
  "language_info": {
   "name": "python"
  },
  "orig_nbformat": 4
 },
 "nbformat": 4,
 "nbformat_minor": 2
}
