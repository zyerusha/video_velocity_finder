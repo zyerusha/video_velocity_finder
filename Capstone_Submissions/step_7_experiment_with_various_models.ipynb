{
 "cells": [
  {
   "cell_type": "markdown",
   "metadata": {},
   "source": [
    "# <span style=\"color:yellow\">Step 7: Experiment With Various Models</span>  \n",
    "\n",
    "I don't have anything specific to submit in this step. The experimentation was done in the during the other steps.  \n",
    "See Step 8: https://github.com/zyerusha/video_velocity_finder/blob/master/Capstone_Submissions/step_8_machine_learning_prototype.ipynb."
   ]
  },
  {
   "cell_type": "code",
   "execution_count": null,
   "metadata": {},
   "outputs": [],
   "source": []
  }
 ],
 "metadata": {
  "language_info": {
   "name": "python"
  },
  "orig_nbformat": 4
 },
 "nbformat": 4,
 "nbformat_minor": 2
}
