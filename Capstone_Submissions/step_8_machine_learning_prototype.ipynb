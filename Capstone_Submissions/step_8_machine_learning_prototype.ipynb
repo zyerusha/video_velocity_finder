{
 "cells": [
  {
   "cell_type": "markdown",
   "metadata": {},
   "source": [
    "# Step 8: Machine Learning/Deep Learning Prototype\n",
    "\n",
    "## Learning Objective\n",
    "\n",
    "- Find a machine learning or deep learning approach that works for the problem to be solved.\n",
    "- Implement a prototype of the approach in a Jupyter notebook. \n",
    "- Demonstrate the viability of the approach."
   ]
  },
  {
   "cell_type": "markdown",
   "metadata": {},
   "source": [
    "### Prerequisites\n",
    "- Python 3.9 \n",
    "- Tensorflow - installed via Anaconda (https://www.anaconda.com/products/individual)\n",
    "- Download yolov4.weights file: https://drive.google.com/open?id=1cewMfusmPjYWbrnuJRuKhPMwRe_b9PaT\n",
    "and place in a \"../yolo/weights/\" folder\n",
    "- opencv"
   ]
  },
  {
   "cell_type": "markdown",
   "metadata": {},
   "source": [
    "Setup of folders and file paths used throughout this notebook. \n",
    "Note: this notebook calls a files/folders that are one folder above it. For it work, the entire git repo must be checked out as it uses submodules"
   ]
  },
  {
   "cell_type": "code",
   "execution_count": 1,
   "metadata": {},
   "outputs": [],
   "source": [
    "from sys import path\n",
    "\n",
    "os.chdir(os.path.dirname(path[0]))"
   ]
  },
  {
   "cell_type": "markdown",
   "metadata": {},
   "source": [
    "If needed, set \"get_requirements = True\" to install necessary requirements used:"
   ]
  },
  {
   "cell_type": "code",
   "execution_count": 2,
   "metadata": {},
   "outputs": [],
   "source": [
    "get_requirements = False\n",
    "if (get_requirements == True):\n",
    "    !pip install -r ../requirements.txt"
   ]
  },
  {
   "cell_type": "markdown",
   "metadata": {},
   "source": [
    "Copy folders & files that will be used later to a tmp folder:"
   ]
  },
  {
   "cell_type": "code",
   "execution_count": 3,
   "metadata": {},
   "outputs": [
    {
     "name": "stdout",
     "output_type": "stream",
     "text": [
      "Copied folder tensorflow_yolov4_tflite/data/ --> tmp/data\n",
      "Copied folder tensorflow_yolov4_tflite/core/ --> tmp/core\n",
      "Copied folder yolov4-deepsort/model_data/ --> tmp/model_data\n",
      "Copied folder utils --> tmp/utils\n",
      "Copied folder deep_sort/deep_sort --> tmp/deep_sort/deep_sort\n",
      "Copied folder deep_sort/tools --> tmp/tools\n",
      "Copied folder yolo/weights --> tmp/weights\n"
     ]
    }
   ],
   "source": [
    "# using custom class for this project:\n",
    "from utils.folder_utils import FolderUtils\n",
    "from shutil import copy2\n",
    "\n",
    "# copy folders that will be used by the algorithm\n",
    "FolderUtils.CopyFolders('tensorflow_yolov4_tflite/data/', 'tmp/data') \n",
    "FolderUtils.CopyFolders('tensorflow_yolov4_tflite/core/', 'tmp/core') \n",
    "FolderUtils.CopyFolders('yolov4-deepsort/model_data/','tmp/model_data') \n",
    "FolderUtils.CopyFolders('utils','tmp/utils') \n",
    "FolderUtils.CopyFolders('deep_sort/deep_sort','tmp/deep_sort/deep_sort') \n",
    "FolderUtils.CopyFolders('deep_sort/tools','tmp/tools') \n",
    "FolderUtils.CopyFolders('yolo/weights','tmp/weights') \n",
    "\n",
    "copy2('yolo/darknet/data/coco.names', 'tmp/coco.names')\n",
    "copy2('tensorflow_yolov4_tflite/save_model.py', 'tmp/save_model.py')\n",
    "copy2('tensorflow_yolov4_tflite/save_model.py', 'tmp/save_model.py')\n",
    "os.chdir('tmp')"
   ]
  },
  {
   "cell_type": "markdown",
   "metadata": {},
   "source": [
    "Importing necessary libraries:"
   ]
  },
  {
   "cell_type": "code",
   "execution_count": 4,
   "metadata": {},
   "outputs": [],
   "source": [
    "\n",
    "import os\n",
    "from yaml import SafeLoader, load\n",
    "import pandas as pd\n",
    "import os\n",
    "import cv2\n",
    "\n",
    "\n",
    "# custom classes developed for this project:\n",
    "from utils.deepsort_yolo import DeepsortYolo\n",
    "from utils.video_utils import VideoUtils"
   ]
  },
  {
   "cell_type": "markdown",
   "metadata": {},
   "source": [
    "Variables Setup: "
   ]
  },
  {
   "cell_type": "code",
   "execution_count": 5,
   "metadata": {},
   "outputs": [],
   "source": [
    "# setup\n",
    "dataset_dir_path = '../../datasets/VIRAT/'\n",
    "image_ext = '.jpg'\n",
    "video_max_frames = 2000\n",
    "\n",
    "#video\n",
    "video_ext = '.mp4'\n",
    "video_name = 'VIRAT_S_050000_07_001014_001126'\n",
    "video_name_orig = video_name + video_ext\n",
    "video_dest_path = './../processed/' +  video_name + '/'\n",
    "video_src_path = dataset_dir_path + 'Videos/Ground/'\n",
    "\n",
    "using_yml = True\n",
    "\n",
    "# annotations\n",
    "saved_csv = video_dest_path + 'df_bbox.csv'\n",
    "\n",
    "\n",
    "yml_video_name = 'gt'\n",
    "yolo_video_name = 'yolo'\n",
    "\n",
    "annotations_path = dataset_dir_path + 'viratannotations/train/' + video_name +'/'\n",
    "# annotations_path = dataset_dir_path + 'viratannotations/validate/' + video_name +'/'\n",
    "ann_activities_file = annotations_path + video_name + '.activities.yml'\n",
    "ann_geom_file = annotations_path + video_name + '.geom.yml'\n",
    "ann_regions_file = annotations_path + video_name + '.regions.yml'\n",
    "ann_types_file = annotations_path + video_name + '.types.yml'\n",
    "\n",
    "\n",
    "src_video = os.path.join(video_src_path, video_name_orig)\n",
    "gt_video_name = yml_video_name + '_' # + '.mp4'#video_ext\n",
    "yolo_video_name = yolo_video_name + '_'# + '.mp4'#video_ext"
   ]
  },
  {
   "cell_type": "markdown",
   "metadata": {},
   "source": [
    "Using https://github.com/zyerusha/tensorflow-yolov4-tflite to convert YOLO weights to tensorflow:\n"
   ]
  },
  {
   "cell_type": "code",
   "execution_count": 6,
   "metadata": {},
   "outputs": [],
   "source": [
    "# If not done already, Convert weights to tensorflow model\n",
    "if not os.path.exists(\"checkpoints/yolov4\"):\n",
    "    # current_dir  = os.getcwd()\n",
    "    # os.chdir(\"tensorflow_yolov4_tflite/\")\n",
    "    !python save_model.py --model yolov4 --weights ./weights/yolov4.weights --output ./checkpoints/yolov4\n",
    "    # os.chdir(current_dir)\n"
   ]
  },
  {
   "cell_type": "code",
   "execution_count": 7,
   "metadata": {},
   "outputs": [],
   "source": [
    "# # Create directory to store new video\n",
    "# if not os.path.exists(video_dest_path):\n",
    "#     os.makedirs(video_dest_path)\n"
   ]
  },
  {
   "cell_type": "markdown",
   "metadata": {},
   "source": [
    "The following code loads a dataframe with annotation data from either a yaml or from a csv file. The csv is created after the first yaml reading on the data. This provides  faster loading of data on a rerun of this notebook."
   ]
  },
  {
   "cell_type": "code",
   "execution_count": 8,
   "metadata": {},
   "outputs": [
    {
     "name": "stdout",
     "output_type": "stream",
     "text": [
      "Loading annotations for VIRAT_S_050000_07_001014_001126.mp4...\n"
     ]
    },
    {
     "data": {
      "text/html": [
       "<div>\n",
       "<style scoped>\n",
       "    .dataframe tbody tr th:only-of-type {\n",
       "        vertical-align: middle;\n",
       "    }\n",
       "\n",
       "    .dataframe tbody tr th {\n",
       "        vertical-align: top;\n",
       "    }\n",
       "\n",
       "    .dataframe thead th {\n",
       "        text-align: right;\n",
       "    }\n",
       "</style>\n",
       "<table border=\"1\" class=\"dataframe\">\n",
       "  <thead>\n",
       "    <tr style=\"text-align: right;\">\n",
       "      <th></th>\n",
       "      <th>object_id</th>\n",
       "      <th>frame_id</th>\n",
       "      <th>time_sec</th>\n",
       "      <th>bb_left</th>\n",
       "      <th>bb_top</th>\n",
       "      <th>bb_right</th>\n",
       "      <th>bb_bottom</th>\n",
       "      <th>category</th>\n",
       "    </tr>\n",
       "  </thead>\n",
       "  <tbody>\n",
       "    <tr>\n",
       "      <th>0</th>\n",
       "      <td>0.0</td>\n",
       "      <td>0.0</td>\n",
       "      <td>0.000000</td>\n",
       "      <td>485</td>\n",
       "      <td>743</td>\n",
       "      <td>653</td>\n",
       "      <td>914</td>\n",
       "      <td>Vehicle</td>\n",
       "    </tr>\n",
       "    <tr>\n",
       "      <th>1</th>\n",
       "      <td>0.0</td>\n",
       "      <td>1.0</td>\n",
       "      <td>0.033333</td>\n",
       "      <td>489</td>\n",
       "      <td>748</td>\n",
       "      <td>657</td>\n",
       "      <td>919</td>\n",
       "      <td>Vehicle</td>\n",
       "    </tr>\n",
       "    <tr>\n",
       "      <th>2</th>\n",
       "      <td>0.0</td>\n",
       "      <td>2.0</td>\n",
       "      <td>0.066667</td>\n",
       "      <td>488</td>\n",
       "      <td>747</td>\n",
       "      <td>656</td>\n",
       "      <td>918</td>\n",
       "      <td>Vehicle</td>\n",
       "    </tr>\n",
       "    <tr>\n",
       "      <th>3</th>\n",
       "      <td>0.0</td>\n",
       "      <td>3.0</td>\n",
       "      <td>0.100000</td>\n",
       "      <td>488</td>\n",
       "      <td>747</td>\n",
       "      <td>656</td>\n",
       "      <td>918</td>\n",
       "      <td>Vehicle</td>\n",
       "    </tr>\n",
       "    <tr>\n",
       "      <th>4</th>\n",
       "      <td>0.0</td>\n",
       "      <td>4.0</td>\n",
       "      <td>0.133333</td>\n",
       "      <td>488</td>\n",
       "      <td>747</td>\n",
       "      <td>656</td>\n",
       "      <td>918</td>\n",
       "      <td>Vehicle</td>\n",
       "    </tr>\n",
       "    <tr>\n",
       "      <th>5</th>\n",
       "      <td>0.0</td>\n",
       "      <td>5.0</td>\n",
       "      <td>0.166667</td>\n",
       "      <td>488</td>\n",
       "      <td>746</td>\n",
       "      <td>656</td>\n",
       "      <td>917</td>\n",
       "      <td>Vehicle</td>\n",
       "    </tr>\n",
       "    <tr>\n",
       "      <th>6</th>\n",
       "      <td>0.0</td>\n",
       "      <td>6.0</td>\n",
       "      <td>0.200000</td>\n",
       "      <td>488</td>\n",
       "      <td>746</td>\n",
       "      <td>656</td>\n",
       "      <td>917</td>\n",
       "      <td>Vehicle</td>\n",
       "    </tr>\n",
       "    <tr>\n",
       "      <th>7</th>\n",
       "      <td>0.0</td>\n",
       "      <td>7.0</td>\n",
       "      <td>0.233333</td>\n",
       "      <td>488</td>\n",
       "      <td>746</td>\n",
       "      <td>656</td>\n",
       "      <td>917</td>\n",
       "      <td>Vehicle</td>\n",
       "    </tr>\n",
       "    <tr>\n",
       "      <th>8</th>\n",
       "      <td>0.0</td>\n",
       "      <td>8.0</td>\n",
       "      <td>0.266667</td>\n",
       "      <td>488</td>\n",
       "      <td>745</td>\n",
       "      <td>656</td>\n",
       "      <td>916</td>\n",
       "      <td>Vehicle</td>\n",
       "    </tr>\n",
       "    <tr>\n",
       "      <th>9</th>\n",
       "      <td>0.0</td>\n",
       "      <td>9.0</td>\n",
       "      <td>0.300000</td>\n",
       "      <td>488</td>\n",
       "      <td>745</td>\n",
       "      <td>656</td>\n",
       "      <td>916</td>\n",
       "      <td>Vehicle</td>\n",
       "    </tr>\n",
       "  </tbody>\n",
       "</table>\n",
       "</div>"
      ],
      "text/plain": [
       "   object_id  frame_id  time_sec  bb_left  bb_top  bb_right  bb_bottom  \\\n",
       "0        0.0       0.0  0.000000      485     743       653        914   \n",
       "1        0.0       1.0  0.033333      489     748       657        919   \n",
       "2        0.0       2.0  0.066667      488     747       656        918   \n",
       "3        0.0       3.0  0.100000      488     747       656        918   \n",
       "4        0.0       4.0  0.133333      488     747       656        918   \n",
       "5        0.0       5.0  0.166667      488     746       656        917   \n",
       "6        0.0       6.0  0.200000      488     746       656        917   \n",
       "7        0.0       7.0  0.233333      488     746       656        917   \n",
       "8        0.0       8.0  0.266667      488     745       656        916   \n",
       "9        0.0       9.0  0.300000      488     745       656        916   \n",
       "\n",
       "  category  \n",
       "0  Vehicle  \n",
       "1  Vehicle  \n",
       "2  Vehicle  \n",
       "3  Vehicle  \n",
       "4  Vehicle  \n",
       "5  Vehicle  \n",
       "6  Vehicle  \n",
       "7  Vehicle  \n",
       "8  Vehicle  \n",
       "9  Vehicle  "
      ]
     },
     "execution_count": 8,
     "metadata": {},
     "output_type": "execute_result"
    }
   ],
   "source": [
    "# using annotations:\n",
    "print(f\"Loading annotations for {video_name_orig}...\")\n",
    "def add_category_type(row):\n",
    "  id = row['object_id']\n",
    "  val = type_df.loc[type_df['id'] == id, 'category'].iloc[0]\n",
    "  return val\n",
    "\n",
    "\n",
    "if os.path.exists(saved_csv):\n",
    "  df_bbox = pd.read_csv(saved_csv)\n",
    "else:\n",
    "    # Read categories from annotation file\n",
    "    with open(ann_types_file) as yaml_file:\n",
    "        yaml_contents = load(yaml_file, Loader=SafeLoader)\n",
    "    yaml_df = pd.json_normalize(yaml_contents)\n",
    "    yaml_df\n",
    "    for col in yaml_df.columns:\n",
    "        type_name = col.split('.')[-1]\n",
    "        if not (type_name == 'id1'):\n",
    "            yaml_df.loc[yaml_df[col] == 1, col] = type_name\n",
    "    \n",
    "    yaml_df = yaml_df[yaml_df['types.id1'].notna()].reset_index().dropna(axis=1, how='all')  \n",
    "    type_df = yaml_df.ffill(axis=1).iloc[:,-1].to_frame(name='category')\n",
    "    type_df.insert(0, \"id\", yaml_df['types.id1'])\n",
    "\n",
    "    # Read bounding boxes from annotation file\n",
    "    with open(ann_geom_file) as yaml_file:\n",
    "        yaml_contents = load(yaml_file, Loader=SafeLoader)\n",
    "    yaml_df = pd.json_normalize(yaml_contents)\n",
    "\n",
    "    df_bbox = yaml_df[['geom.id1','geom.ts0','geom.ts1','geom.g0']].dropna().reset_index()\n",
    "    df_bbox.rename(columns={'geom.id1': 'object_id', 'geom.ts0': 'frame_id','geom.ts1': 'time_sec', 'geom.g0': 'bbox'}, inplace=True)\n",
    "    df_bbox['bbox'] = df_bbox['bbox'].str.split()\n",
    "    df_tmp = pd.DataFrame(df_bbox['bbox'].to_list(), columns = ['bb_left', 'bb_top', 'bb_right', 'bb_bottom'])\n",
    "    df_bbox = pd.concat([df_bbox, df_tmp], axis=1).drop(columns=['bbox'])\n",
    "\n",
    "    df_bbox['category'] = df_bbox.apply(lambda row: add_category_type(row), axis=1) \n",
    "    df_bbox.drop(columns=['index'], axis=1, inplace=True)\n",
    "    df_bbox.to_csv(saved_csv, index = False)\n",
    "    \n",
    "\n",
    "df_bbox.head(10)"
   ]
  },
  {
   "cell_type": "markdown",
   "metadata": {},
   "source": [
    "Instantiating the classes that will used to process the video"
   ]
  },
  {
   "cell_type": "code",
   "execution_count": 9,
   "metadata": {},
   "outputs": [],
   "source": [
    "vUtils = VideoUtils() \n",
    "deepsortYolo  = DeepsortYolo()"
   ]
  },
  {
   "cell_type": "code",
   "execution_count": 10,
   "metadata": {},
   "outputs": [
    {
     "name": "stdout",
     "output_type": "stream",
     "text": [
      "Total frames in video: 3351 @ 30 frames/sec\n"
     ]
    }
   ],
   "source": [
    "\n",
    "\n",
    "start_time = 0\n",
    "video_duration=1#None\n",
    "video_in = cv2.VideoCapture(src_video)\n",
    "if video_in.isOpened():\n",
    "    fps, total_frames, frame_size = VideoUtils.GetVideoData(video_in)\n",
    "    start_count, end_count = VideoUtils.GetStartEndCount(fps, total_frames, start_time, video_duration)\n",
    "    video_duration = int(end_count / fps)\n",
    "    video_in.release()\n"
   ]
  },
  {
   "cell_type": "code",
   "execution_count": 11,
   "metadata": {},
   "outputs": [
    {
     "name": "stdout",
     "output_type": "stream",
     "text": [
      "../../datasets/VIRAT/Videos/Ground/VIRAT_S_050000_07_001014_001126.mp4\n",
      "opened video\n",
      "Total frames in video: 3351 @ 30 frames/sec\n",
      "Created frame id 25, 0.83 sec in video; Objects Cnt: 12 completed:  83.3 %\n",
      "Done: Created video: ./../processed/VIRAT_S_050000_07_001014_001126/0-1_yolo_.mp4\n"
     ]
    }
   ],
   "source": [
    "yolo_filename = os.path.join(video_dest_path, VideoUtils.AddTimestampToName(yolo_video_name, start_time, video_duration))\n",
    "gt_filename = os.path.join(video_dest_path, VideoUtils.AddTimestampToName(gt_video_name, start_time, video_duration))\n",
    "\n",
    "tracker_file_csv = yolo_filename + '.csv'\n",
    "tracker_file_mp4 = yolo_filename + '.mp4'\n",
    "gt_file_mp4 = gt_filename + '.mp4'\n",
    "if not os.path.exists(tracker_file_csv):\n",
    "    model_filename = 'model_data/mars-small128.pb'\n",
    "    yolo_weights_filename = './checkpoints/yolov4'\n",
    "    tracker_video_out, trk_bbox = deepsortYolo.ProcessVideo(yolo_weights_filename, model_filename, src_video, video_dest_path, tracker_file_mp4, start_time_sec=start_time, duration_sec=video_duration, save_images=False)\n",
    "    trk_bbox.to_csv(tracker_file_csv, index=False)"
   ]
  },
  {
   "cell_type": "markdown",
   "metadata": {},
   "source": [
    "Reload dataframe that was previously stored in a csv."
   ]
  },
  {
   "cell_type": "code",
   "execution_count": 12,
   "metadata": {},
   "outputs": [
    {
     "data": {
      "text/html": [
       "<div>\n",
       "<style scoped>\n",
       "    .dataframe tbody tr th:only-of-type {\n",
       "        vertical-align: middle;\n",
       "    }\n",
       "\n",
       "    .dataframe tbody tr th {\n",
       "        vertical-align: top;\n",
       "    }\n",
       "\n",
       "    .dataframe thead th {\n",
       "        text-align: right;\n",
       "    }\n",
       "</style>\n",
       "<table border=\"1\" class=\"dataframe\">\n",
       "  <thead>\n",
       "    <tr style=\"text-align: right;\">\n",
       "      <th></th>\n",
       "      <th>Frame</th>\n",
       "      <th>bb_left</th>\n",
       "      <th>bb_top</th>\n",
       "      <th>bb_right</th>\n",
       "      <th>bb_bottom</th>\n",
       "      <th>category</th>\n",
       "      <th>object_id</th>\n",
       "    </tr>\n",
       "  </thead>\n",
       "  <tbody>\n",
       "    <tr>\n",
       "      <th>0</th>\n",
       "      <td>2</td>\n",
       "      <td>921.0</td>\n",
       "      <td>276.0</td>\n",
       "      <td>1028.0</td>\n",
       "      <td>364.0</td>\n",
       "      <td>car</td>\n",
       "      <td>1.0</td>\n",
       "    </tr>\n",
       "    <tr>\n",
       "      <th>1</th>\n",
       "      <td>2</td>\n",
       "      <td>797.0</td>\n",
       "      <td>121.0</td>\n",
       "      <td>908.0</td>\n",
       "      <td>195.0</td>\n",
       "      <td>car</td>\n",
       "      <td>2.0</td>\n",
       "    </tr>\n",
       "    <tr>\n",
       "      <th>2</th>\n",
       "      <td>2</td>\n",
       "      <td>1069.0</td>\n",
       "      <td>457.0</td>\n",
       "      <td>1180.0</td>\n",
       "      <td>545.0</td>\n",
       "      <td>car</td>\n",
       "      <td>3.0</td>\n",
       "    </tr>\n",
       "    <tr>\n",
       "      <th>3</th>\n",
       "      <td>2</td>\n",
       "      <td>1468.0</td>\n",
       "      <td>720.0</td>\n",
       "      <td>1496.0</td>\n",
       "      <td>803.0</td>\n",
       "      <td>person</td>\n",
       "      <td>4.0</td>\n",
       "    </tr>\n",
       "    <tr>\n",
       "      <th>4</th>\n",
       "      <td>2</td>\n",
       "      <td>1220.0</td>\n",
       "      <td>647.0</td>\n",
       "      <td>1421.0</td>\n",
       "      <td>830.0</td>\n",
       "      <td>truck</td>\n",
       "      <td>5.0</td>\n",
       "    </tr>\n",
       "    <tr>\n",
       "      <th>5</th>\n",
       "      <td>2</td>\n",
       "      <td>505.0</td>\n",
       "      <td>772.0</td>\n",
       "      <td>648.0</td>\n",
       "      <td>908.0</td>\n",
       "      <td>truck</td>\n",
       "      <td>6.0</td>\n",
       "    </tr>\n",
       "    <tr>\n",
       "      <th>6</th>\n",
       "      <td>2</td>\n",
       "      <td>979.0</td>\n",
       "      <td>348.0</td>\n",
       "      <td>1126.0</td>\n",
       "      <td>474.0</td>\n",
       "      <td>car</td>\n",
       "      <td>7.0</td>\n",
       "    </tr>\n",
       "    <tr>\n",
       "      <th>7</th>\n",
       "      <td>2</td>\n",
       "      <td>453.0</td>\n",
       "      <td>106.0</td>\n",
       "      <td>623.0</td>\n",
       "      <td>293.0</td>\n",
       "      <td>truck</td>\n",
       "      <td>8.0</td>\n",
       "    </tr>\n",
       "    <tr>\n",
       "      <th>8</th>\n",
       "      <td>2</td>\n",
       "      <td>873.0</td>\n",
       "      <td>198.0</td>\n",
       "      <td>993.0</td>\n",
       "      <td>290.0</td>\n",
       "      <td>car</td>\n",
       "      <td>9.0</td>\n",
       "    </tr>\n",
       "    <tr>\n",
       "      <th>9</th>\n",
       "      <td>2</td>\n",
       "      <td>1144.0</td>\n",
       "      <td>350.0</td>\n",
       "      <td>1170.0</td>\n",
       "      <td>410.0</td>\n",
       "      <td>person</td>\n",
       "      <td>10.0</td>\n",
       "    </tr>\n",
       "  </tbody>\n",
       "</table>\n",
       "</div>"
      ],
      "text/plain": [
       "   Frame  bb_left  bb_top  bb_right  bb_bottom category  object_id\n",
       "0      2    921.0   276.0    1028.0      364.0      car        1.0\n",
       "1      2    797.0   121.0     908.0      195.0      car        2.0\n",
       "2      2   1069.0   457.0    1180.0      545.0      car        3.0\n",
       "3      2   1468.0   720.0    1496.0      803.0   person        4.0\n",
       "4      2   1220.0   647.0    1421.0      830.0    truck        5.0\n",
       "5      2    505.0   772.0     648.0      908.0    truck        6.0\n",
       "6      2    979.0   348.0    1126.0      474.0      car        7.0\n",
       "7      2    453.0   106.0     623.0      293.0    truck        8.0\n",
       "8      2    873.0   198.0     993.0      290.0      car        9.0\n",
       "9      2   1144.0   350.0    1170.0      410.0   person       10.0"
      ]
     },
     "execution_count": 12,
     "metadata": {},
     "output_type": "execute_result"
    }
   ],
   "source": [
    "trk_bbox = pd.read_csv(tracker_file_csv)\n",
    "trk_bbox.head(10)"
   ]
  },
  {
   "cell_type": "markdown",
   "metadata": {},
   "source": []
  }
 ],
 "metadata": {
  "interpreter": {
   "hash": "f419eca88335f5e268f0a23f87638e5abe6b46442c594d23b7fbaf87b451c6d9"
  },
  "kernelspec": {
   "display_name": "Python 3.10.1 64-bit",
   "language": "python",
   "name": "python3"
  },
  "language_info": {
   "codemirror_mode": {
    "name": "ipython",
    "version": 3
   },
   "file_extension": ".py",
   "mimetype": "text/x-python",
   "name": "python",
   "nbconvert_exporter": "python",
   "pygments_lexer": "ipython3",
   "version": "3.9.7"
  },
  "orig_nbformat": 4
 },
 "nbformat": 4,
 "nbformat_minor": 2
}
